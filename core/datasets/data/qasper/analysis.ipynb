{
 "cells": [
  {
   "cell_type": "code",
   "execution_count": null,
   "metadata": {},
   "outputs": [],
   "source": [
    "import sys\n",
    "from pathlib import Path\n",
    "\n",
    "try:\n",
    "    notebook_path = Path(__file__).resolve()\n",
    "    project_root = notebook_path.parents[4]\n",
    "except NameError:\n",
    "    project_root = Path.cwd().parents[3]\n",
    "\n",
    "sys.path.insert(0, str(project_root))\n",
    "print(\"Project root added to sys.path:\", project_root)\n",
    "\n",
    "# load data\n",
    "from processor import Qasper"
   ]
  },
  {
   "cell_type": "code",
   "execution_count": null,
   "metadata": {},
   "outputs": [],
   "source": [
    "# Load data\n",
    "qasper_ds = Qasper()\n",
    "qasper_ds.load()"
   ]
  },
  {
   "cell_type": "code",
   "execution_count": null,
   "metadata": {},
   "outputs": [],
   "source": [
    "# get list of documents\n",
    "docs = list(qasper_ds.get_documents())\n",
    "\n",
    "# get list of question answer pairs\n",
    "qas = list(qasper_ds.get_queries())"
   ]
  }
 ],
 "metadata": {
  "kernelspec": {
   "display_name": ".venv",
   "language": "python",
   "name": "python3"
  },
  "language_info": {
   "name": "python",
   "version": "3.12.4"
  }
 },
 "nbformat": 4,
 "nbformat_minor": 2
}
